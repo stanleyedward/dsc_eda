{
 "cells": [
  {
   "cell_type": "markdown",
   "metadata": {},
   "source": [
    ">## hi\n"
   ]
  },
  {
   "cell_type": "markdown",
   "metadata": {},
   "source": [
    "## "
   ]
  },
  {
   "cell_type": "code",
   "execution_count": 1,
   "metadata": {},
   "outputs": [],
   "source": [
    "#import library\n",
    "import pandas as pd\n",
    "import numpy as np\n",
    "import matplotlib.pyplot as plt\n",
    "import seaborn as sns\n",
    "import plotly.express as px"
   ]
  },
  {
   "cell_type": "code",
   "execution_count": 2,
   "metadata": {},
   "outputs": [
    {
     "name": "stdout",
     "output_type": "stream",
     "text": [
      "                Name  Age  Gender  Hours_Studied   IQ  Physics_Marks  \\\n",
      "0       Jason Vargas   19    Male       8.140821   92             87   \n",
      "1     Sandra Wiggins   35  Female       9.825626  112             86   \n",
      "2        Julia Olsen   33    Male       8.835372  131             87   \n",
      "3  Robert Pennington   33    Male       2.482483  138             70   \n",
      "4      Kayla Sellers   28  Female       4.419793   90             95   \n",
      "\n",
      "   Math_Marks  Chemistry_Marks  Has_Part_Time_Job Study_Hours_Group  \n",
      "0          43               85               True              High  \n",
      "1          81               54              False              High  \n",
      "2          52               57               True              High  \n",
      "3          86               83              False               Low  \n",
      "4          48               83               True               Low  \n"
     ]
    }
   ],
   "source": [
    "df = pd.read_csv('student_extended_ml_dataset2.csv')\n",
    "print(df.head())"
   ]
  },
  {
   "cell_type": "code",
   "execution_count": 3,
   "metadata": {},
   "outputs": [
    {
     "name": "stdout",
     "output_type": "stream",
     "text": [
      "               Age  Hours_Studied           IQ  Physics_Marks   Math_Marks  \\\n",
      "count  5000.000000    5000.000000  5000.000000    5000.000000  5000.000000   \n",
      "mean     31.444800       5.499279   114.915200      70.311000    69.816000   \n",
      "std       8.148388       2.588333    20.551839      17.753538    17.536626   \n",
      "min      18.000000       1.002452    80.000000      40.000000    40.000000   \n",
      "25%      24.000000       3.258910    97.000000      55.000000    54.000000   \n",
      "50%      32.000000       5.474256   115.000000      71.000000    70.000000   \n",
      "75%      38.000000       7.726088   133.000000      86.000000    85.000000   \n",
      "max      45.000000       9.999925   150.000000     100.000000   100.000000   \n",
      "\n",
      "       Chemistry_Marks  \n",
      "count      5000.000000  \n",
      "mean         69.798800  \n",
      "std          17.487913  \n",
      "min          40.000000  \n",
      "25%          55.000000  \n",
      "50%          70.000000  \n",
      "75%          85.000000  \n",
      "max         100.000000  \n"
     ]
    }
   ],
   "source": [
    "print(df.describe())"
   ]
  },
  {
   "cell_type": "code",
   "execution_count": 4,
   "metadata": {},
   "outputs": [
    {
     "data": {
      "text/plain": [
       "Name                 0\n",
       "Age                  0\n",
       "Gender               0\n",
       "Hours_Studied        0\n",
       "IQ                   0\n",
       "Physics_Marks        0\n",
       "Math_Marks           0\n",
       "Chemistry_Marks      0\n",
       "Has_Part_Time_Job    0\n",
       "Study_Hours_Group    0\n",
       "dtype: int64"
      ]
     },
     "execution_count": 4,
     "metadata": {},
     "output_type": "execute_result"
    }
   ],
   "source": [
    "df.isnull().sum()\n",
    "#no missing values # no need to fill / remove observations"
   ]
  },
  {
   "cell_type": "code",
   "execution_count": 5,
   "metadata": {},
   "outputs": [
    {
     "data": {
      "text/html": [
       "<div>\n",
       "<style scoped>\n",
       "    .dataframe tbody tr th:only-of-type {\n",
       "        vertical-align: middle;\n",
       "    }\n",
       "\n",
       "    .dataframe tbody tr th {\n",
       "        vertical-align: top;\n",
       "    }\n",
       "\n",
       "    .dataframe thead th {\n",
       "        text-align: right;\n",
       "    }\n",
       "</style>\n",
       "<table border=\"1\" class=\"dataframe\">\n",
       "  <thead>\n",
       "    <tr style=\"text-align: right;\">\n",
       "      <th></th>\n",
       "      <th>Name</th>\n",
       "      <th>Age</th>\n",
       "      <th>Gender</th>\n",
       "      <th>Hours_Studied</th>\n",
       "      <th>IQ</th>\n",
       "      <th>Physics_Marks</th>\n",
       "      <th>Math_Marks</th>\n",
       "      <th>Chemistry_Marks</th>\n",
       "      <th>Has_Part_Time_Job</th>\n",
       "      <th>Study_Hours_Group</th>\n",
       "    </tr>\n",
       "  </thead>\n",
       "  <tbody>\n",
       "    <tr>\n",
       "      <th>0</th>\n",
       "      <td>Jason Vargas</td>\n",
       "      <td>19</td>\n",
       "      <td>Male</td>\n",
       "      <td>8.140821</td>\n",
       "      <td>92</td>\n",
       "      <td>87</td>\n",
       "      <td>43</td>\n",
       "      <td>85</td>\n",
       "      <td>True</td>\n",
       "      <td>High</td>\n",
       "    </tr>\n",
       "    <tr>\n",
       "      <th>1</th>\n",
       "      <td>Sandra Wiggins</td>\n",
       "      <td>35</td>\n",
       "      <td>Female</td>\n",
       "      <td>9.825626</td>\n",
       "      <td>112</td>\n",
       "      <td>86</td>\n",
       "      <td>81</td>\n",
       "      <td>54</td>\n",
       "      <td>False</td>\n",
       "      <td>High</td>\n",
       "    </tr>\n",
       "    <tr>\n",
       "      <th>2</th>\n",
       "      <td>Julia Olsen</td>\n",
       "      <td>33</td>\n",
       "      <td>Male</td>\n",
       "      <td>8.835372</td>\n",
       "      <td>131</td>\n",
       "      <td>87</td>\n",
       "      <td>52</td>\n",
       "      <td>57</td>\n",
       "      <td>True</td>\n",
       "      <td>High</td>\n",
       "    </tr>\n",
       "    <tr>\n",
       "      <th>3</th>\n",
       "      <td>Robert Pennington</td>\n",
       "      <td>33</td>\n",
       "      <td>Male</td>\n",
       "      <td>2.482483</td>\n",
       "      <td>138</td>\n",
       "      <td>70</td>\n",
       "      <td>86</td>\n",
       "      <td>83</td>\n",
       "      <td>False</td>\n",
       "      <td>Low</td>\n",
       "    </tr>\n",
       "    <tr>\n",
       "      <th>4</th>\n",
       "      <td>Kayla Sellers</td>\n",
       "      <td>28</td>\n",
       "      <td>Female</td>\n",
       "      <td>4.419793</td>\n",
       "      <td>90</td>\n",
       "      <td>95</td>\n",
       "      <td>48</td>\n",
       "      <td>83</td>\n",
       "      <td>True</td>\n",
       "      <td>Low</td>\n",
       "    </tr>\n",
       "  </tbody>\n",
       "</table>\n",
       "</div>"
      ],
      "text/plain": [
       "                Name  Age  Gender  Hours_Studied   IQ  Physics_Marks  \\\n",
       "0       Jason Vargas   19    Male       8.140821   92             87   \n",
       "1     Sandra Wiggins   35  Female       9.825626  112             86   \n",
       "2        Julia Olsen   33    Male       8.835372  131             87   \n",
       "3  Robert Pennington   33    Male       2.482483  138             70   \n",
       "4      Kayla Sellers   28  Female       4.419793   90             95   \n",
       "\n",
       "   Math_Marks  Chemistry_Marks  Has_Part_Time_Job Study_Hours_Group  \n",
       "0          43               85               True              High  \n",
       "1          81               54              False              High  \n",
       "2          52               57               True              High  \n",
       "3          86               83              False               Low  \n",
       "4          48               83               True               Low  "
      ]
     },
     "execution_count": 5,
     "metadata": {},
     "output_type": "execute_result"
    }
   ],
   "source": [
    "df.head()"
   ]
  },
  {
   "cell_type": "code",
   "execution_count": 6,
   "metadata": {},
   "outputs": [
    {
     "data": {
      "text/html": [
       "<div>\n",
       "<style scoped>\n",
       "    .dataframe tbody tr th:only-of-type {\n",
       "        vertical-align: middle;\n",
       "    }\n",
       "\n",
       "    .dataframe tbody tr th {\n",
       "        vertical-align: top;\n",
       "    }\n",
       "\n",
       "    .dataframe thead th {\n",
       "        text-align: right;\n",
       "    }\n",
       "</style>\n",
       "<table border=\"1\" class=\"dataframe\">\n",
       "  <thead>\n",
       "    <tr style=\"text-align: right;\">\n",
       "      <th></th>\n",
       "      <th>Name</th>\n",
       "      <th>Age</th>\n",
       "      <th>Gender</th>\n",
       "      <th>Hours_Studied</th>\n",
       "      <th>IQ</th>\n",
       "      <th>Physics_Marks</th>\n",
       "      <th>Math_Marks</th>\n",
       "      <th>Chemistry_Marks</th>\n",
       "      <th>Has_Part_Time_Job</th>\n",
       "      <th>Study_Hours_Group</th>\n",
       "    </tr>\n",
       "  </thead>\n",
       "  <tbody>\n",
       "    <tr>\n",
       "      <th>4995</th>\n",
       "      <td>Steven Lynch</td>\n",
       "      <td>30</td>\n",
       "      <td>Female</td>\n",
       "      <td>3.653474</td>\n",
       "      <td>143</td>\n",
       "      <td>93</td>\n",
       "      <td>59</td>\n",
       "      <td>85</td>\n",
       "      <td>True</td>\n",
       "      <td>Low</td>\n",
       "    </tr>\n",
       "    <tr>\n",
       "      <th>4996</th>\n",
       "      <td>Donna Hamilton</td>\n",
       "      <td>33</td>\n",
       "      <td>Female</td>\n",
       "      <td>1.096493</td>\n",
       "      <td>132</td>\n",
       "      <td>68</td>\n",
       "      <td>70</td>\n",
       "      <td>99</td>\n",
       "      <td>True</td>\n",
       "      <td>Low</td>\n",
       "    </tr>\n",
       "    <tr>\n",
       "      <th>4997</th>\n",
       "      <td>Mrs. Ashley Howard</td>\n",
       "      <td>38</td>\n",
       "      <td>Male</td>\n",
       "      <td>4.156770</td>\n",
       "      <td>111</td>\n",
       "      <td>76</td>\n",
       "      <td>96</td>\n",
       "      <td>71</td>\n",
       "      <td>False</td>\n",
       "      <td>Low</td>\n",
       "    </tr>\n",
       "    <tr>\n",
       "      <th>4998</th>\n",
       "      <td>Kendra Murray</td>\n",
       "      <td>18</td>\n",
       "      <td>Female</td>\n",
       "      <td>6.788548</td>\n",
       "      <td>137</td>\n",
       "      <td>81</td>\n",
       "      <td>98</td>\n",
       "      <td>73</td>\n",
       "      <td>False</td>\n",
       "      <td>High</td>\n",
       "    </tr>\n",
       "    <tr>\n",
       "      <th>4999</th>\n",
       "      <td>Christine Rodriguez</td>\n",
       "      <td>38</td>\n",
       "      <td>Male</td>\n",
       "      <td>1.627111</td>\n",
       "      <td>95</td>\n",
       "      <td>52</td>\n",
       "      <td>70</td>\n",
       "      <td>74</td>\n",
       "      <td>True</td>\n",
       "      <td>Low</td>\n",
       "    </tr>\n",
       "  </tbody>\n",
       "</table>\n",
       "</div>"
      ],
      "text/plain": [
       "                     Name  Age  Gender  Hours_Studied   IQ  Physics_Marks  \\\n",
       "4995         Steven Lynch   30  Female       3.653474  143             93   \n",
       "4996       Donna Hamilton   33  Female       1.096493  132             68   \n",
       "4997   Mrs. Ashley Howard   38    Male       4.156770  111             76   \n",
       "4998        Kendra Murray   18  Female       6.788548  137             81   \n",
       "4999  Christine Rodriguez   38    Male       1.627111   95             52   \n",
       "\n",
       "      Math_Marks  Chemistry_Marks  Has_Part_Time_Job Study_Hours_Group  \n",
       "4995          59               85               True               Low  \n",
       "4996          70               99               True               Low  \n",
       "4997          96               71              False               Low  \n",
       "4998          98               73              False              High  \n",
       "4999          70               74               True               Low  "
      ]
     },
     "execution_count": 6,
     "metadata": {},
     "output_type": "execute_result"
    }
   ],
   "source": [
    "df.tail()"
   ]
  },
  {
   "cell_type": "code",
   "execution_count": 7,
   "metadata": {},
   "outputs": [
    {
     "data": {
      "image/png": "[encoded data removed]",
      "text/plain": [
       "<Figure size 500x500 with 1 Axes>"
      ]
     },
     "metadata": {},
     "output_type": "display_data"
    }
   ],
   "source": [
    "\n",
    "\n",
    "plt.figure(figsize = (5,5))\n",
    "ax = sns.countplot(data = df, x = \"Gender\")\n",
    "ax.bar_label(ax.containers[0])\n",
    "plt.title(\"Gender Distribution\")\n",
    "plt.show()\n",
    "#data consists of more females than males\n"
   ]
  },
  {
   "cell_type": "code",
   "execution_count": 8,
   "metadata": {},
   "outputs": [
    {
     "data": {
      "image/png": "[encoded data removed]",
      "text/plain": [
       "<Figure size 500x500 with 1 Axes>"
      ]
     },
     "metadata": {},
     "output_type": "display_data"
    }
   ],
   "source": [
    "plt.figure(figsize = (5,5))\n",
    "ax = sns.countplot(data = df, x = \"Has_Part_Time_Job\")\n",
    "ax.bar_label(ax.containers[0])\n",
    "plt.title(\"Part Time Job Distribution\")\n",
    "plt.show()"
   ]
  },
  {
   "cell_type": "code",
   "execution_count": 9,
   "metadata": {},
   "outputs": [
    {
     "data": {
      "text/plain": [
       "<Axes: >"
      ]
     },
     "execution_count": 9,
     "metadata": {},
     "output_type": "execute_result"
    },
    {
     "data": {
      "image/png": "[encoded data removed]",
      "text/plain": [
       "<Figure size 640x480 with 1 Axes>"
      ]
     },
     "metadata": {},
     "output_type": "display_data"
    }
   ],
   "source": [
    "df.IQ.hist()"
   ]
  },
  {
   "cell_type": "code",
   "execution_count": 10,
   "metadata": {},
   "outputs": [
    {
     "data": {
      "text/plain": [
       "<Axes: >"
      ]
     },
     "execution_count": 10,
     "metadata": {},
     "output_type": "execute_result"
    },
    {
     "data": {
      "image/png": "[encoded data removed]",
      "text/plain": [
       "<Figure size 640x480 with 1 Axes>"
      ]
     },
     "metadata": {},
     "output_type": "display_data"
    }
   ],
   "source": [
    "df.Math_Marks.hist()"
   ]
  },
  {
   "cell_type": "code",
   "execution_count": 11,
   "metadata": {},
   "outputs": [
    {
     "data": {
      "text/plain": [
       "<Axes: >"
      ]
     },
     "execution_count": 11,
     "metadata": {},
     "output_type": "execute_result"
    },
    {
     "data": {
      "image/png": "[encoded data removed]",
      "text/plain": [
       "<Figure size 640x480 with 1 Axes>"
      ]
     },
     "metadata": {},
     "output_type": "display_data"
    }
   ],
   "source": [
    "df.Chemistry_Marks.hist()"
   ]
  },
  {
   "cell_type": "code",
   "execution_count": 12,
   "metadata": {},
   "outputs": [
    {
     "data": {
      "image/png": "[encoded data removed]",
      "text/plain": [
       "<Figure size 500x500 with 1 Axes>"
      ]
     },
     "metadata": {},
     "output_type": "display_data"
    }
   ],
   "source": [
    "plt.figure(figsize = (5,5))\n",
    "ax = sns.countplot(data = df, x = \"Study_Hours_Group\")\n",
    "ax.bar_label(ax.containers[0])\n",
    "plt.title(\"Study_Hours_Group Distribution\")\n",
    "plt.show()"
   ]
  },
  {
   "cell_type": "code",
   "execution_count": 13,
   "metadata": {},
   "outputs": [
    {
     "name": "stdout",
     "output_type": "stream",
     "text": [
      "                   Math_Marks  Physics_Marks  Chemistry_Marks\n",
      "Has_Part_Time_Job                                            \n",
      "False               70.074343      70.216970        69.555960\n",
      "True                69.562772      70.403168        70.036832\n"
     ]
    }
   ],
   "source": [
    "gb=df.groupby(\"Has_Part_Time_Job\").agg({\"Math_Marks\":\"mean\",\"Physics_Marks\":\"mean\",\"Chemistry_Marks\":\"mean\"})\n",
    "print(gb)"
   ]
  },
  {
   "cell_type": "code",
   "execution_count": 14,
   "metadata": {},
   "outputs": [
    {
     "data": {
      "text/plain": [
       "<function matplotlib.pyplot.show(close=None, block=None)>"
      ]
     },
     "execution_count": 14,
     "metadata": {},
     "output_type": "execute_result"
    },
    {
     "data": {
      "image/png": "[encoded data removed]",
      "text/plain": [
       "<Figure size 640x480 with 2 Axes>"
      ]
     },
     "metadata": {},
     "output_type": "display_data"
    }
   ],
   "source": [
    "sns.heatmap(gb, annot=True)\n",
    "plt.show"
   ]
  },
  {
   "cell_type": "markdown",
   "metadata": {},
   "source": [
    "## therefore we can say having a part time has no effect on subject marks"
   ]
  },
  {
   "cell_type": "code",
   "execution_count": 15,
   "metadata": {},
   "outputs": [
    {
     "name": "stdout",
     "output_type": "stream",
     "text": [
      "                   Math_Marks  Physics_Marks  Chemistry_Marks\n",
      "Has_Part_Time_Job                                            \n",
      "False               70.074343      70.216970        69.555960\n",
      "True                69.562772      70.403168        70.036832\n"
     ]
    }
   ],
   "source": [
    "gb1=df.groupby(\"Study_Hours_Group\").agg({\"Math_Marks\":\"mean\",\"Physics_Marks\":\"mean\",\"Chemistry_Marks\":\"mean\"})\n",
    "print(gb)"
   ]
  },
  {
   "cell_type": "code",
   "execution_count": 16,
   "metadata": {},
   "outputs": [
    {
     "data": {
      "text/plain": [
       "<function matplotlib.pyplot.show(close=None, block=None)>"
      ]
     },
     "execution_count": 16,
     "metadata": {},
     "output_type": "execute_result"
    },
    {
     "data": {
      "image/png": "[encoded data removed]",
      "text/plain": [
       "<Figure size 640x480 with 2 Axes>"
      ]
     },
     "metadata": {},
     "output_type": "display_data"
    }
   ],
   "source": [
    "sns.heatmap(gb1, annot = True)\n",
    "plt.show"
   ]
  },
  {
   "cell_type": "markdown",
   "metadata": {},
   "source": [
    "## therefore we can study hours has no effect on subject marks"
   ]
  },
  {
   "cell_type": "code",
   "execution_count": 17,
   "metadata": {},
   "outputs": [
    {
     "data": {
      "text/html": [
       "<div>\n",
       "<style scoped>\n",
       "    .dataframe tbody tr th:only-of-type {\n",
       "        vertical-align: middle;\n",
       "    }\n",
       "\n",
       "    .dataframe tbody tr th {\n",
       "        vertical-align: top;\n",
       "    }\n",
       "\n",
       "    .dataframe thead th {\n",
       "        text-align: right;\n",
       "    }\n",
       "</style>\n",
       "<table border=\"1\" class=\"dataframe\">\n",
       "  <thead>\n",
       "    <tr style=\"text-align: right;\">\n",
       "      <th></th>\n",
       "      <th>Name</th>\n",
       "      <th>Age</th>\n",
       "      <th>Gender</th>\n",
       "      <th>Hours_Studied</th>\n",
       "      <th>IQ</th>\n",
       "      <th>Physics_Marks</th>\n",
       "      <th>Math_Marks</th>\n",
       "      <th>Chemistry_Marks</th>\n",
       "      <th>Has_Part_Time_Job</th>\n",
       "      <th>Study_Hours_Group</th>\n",
       "    </tr>\n",
       "  </thead>\n",
       "  <tbody>\n",
       "    <tr>\n",
       "      <th>0</th>\n",
       "      <td>Jason Vargas</td>\n",
       "      <td>19</td>\n",
       "      <td>Male</td>\n",
       "      <td>8.140821</td>\n",
       "      <td>92</td>\n",
       "      <td>87</td>\n",
       "      <td>43</td>\n",
       "      <td>85</td>\n",
       "      <td>True</td>\n",
       "      <td>High</td>\n",
       "    </tr>\n",
       "    <tr>\n",
       "      <th>1</th>\n",
       "      <td>Sandra Wiggins</td>\n",
       "      <td>35</td>\n",
       "      <td>Female</td>\n",
       "      <td>9.825626</td>\n",
       "      <td>112</td>\n",
       "      <td>86</td>\n",
       "      <td>81</td>\n",
       "      <td>54</td>\n",
       "      <td>False</td>\n",
       "      <td>High</td>\n",
       "    </tr>\n",
       "    <tr>\n",
       "      <th>2</th>\n",
       "      <td>Julia Olsen</td>\n",
       "      <td>33</td>\n",
       "      <td>Male</td>\n",
       "      <td>8.835372</td>\n",
       "      <td>131</td>\n",
       "      <td>87</td>\n",
       "      <td>52</td>\n",
       "      <td>57</td>\n",
       "      <td>True</td>\n",
       "      <td>High</td>\n",
       "    </tr>\n",
       "    <tr>\n",
       "      <th>3</th>\n",
       "      <td>Robert Pennington</td>\n",
       "      <td>33</td>\n",
       "      <td>Male</td>\n",
       "      <td>2.482483</td>\n",
       "      <td>138</td>\n",
       "      <td>70</td>\n",
       "      <td>86</td>\n",
       "      <td>83</td>\n",
       "      <td>False</td>\n",
       "      <td>Low</td>\n",
       "    </tr>\n",
       "    <tr>\n",
       "      <th>4</th>\n",
       "      <td>Kayla Sellers</td>\n",
       "      <td>28</td>\n",
       "      <td>Female</td>\n",
       "      <td>4.419793</td>\n",
       "      <td>90</td>\n",
       "      <td>95</td>\n",
       "      <td>48</td>\n",
       "      <td>83</td>\n",
       "      <td>True</td>\n",
       "      <td>Low</td>\n",
       "    </tr>\n",
       "    <tr>\n",
       "      <th>...</th>\n",
       "      <td>...</td>\n",
       "      <td>...</td>\n",
       "      <td>...</td>\n",
       "      <td>...</td>\n",
       "      <td>...</td>\n",
       "      <td>...</td>\n",
       "      <td>...</td>\n",
       "      <td>...</td>\n",
       "      <td>...</td>\n",
       "      <td>...</td>\n",
       "    </tr>\n",
       "    <tr>\n",
       "      <th>4995</th>\n",
       "      <td>Steven Lynch</td>\n",
       "      <td>30</td>\n",
       "      <td>Female</td>\n",
       "      <td>3.653474</td>\n",
       "      <td>143</td>\n",
       "      <td>93</td>\n",
       "      <td>59</td>\n",
       "      <td>85</td>\n",
       "      <td>True</td>\n",
       "      <td>Low</td>\n",
       "    </tr>\n",
       "    <tr>\n",
       "      <th>4996</th>\n",
       "      <td>Donna Hamilton</td>\n",
       "      <td>33</td>\n",
       "      <td>Female</td>\n",
       "      <td>1.096493</td>\n",
       "      <td>132</td>\n",
       "      <td>68</td>\n",
       "      <td>70</td>\n",
       "      <td>99</td>\n",
       "      <td>True</td>\n",
       "      <td>Low</td>\n",
       "    </tr>\n",
       "    <tr>\n",
       "      <th>4997</th>\n",
       "      <td>Mrs. Ashley Howard</td>\n",
       "      <td>38</td>\n",
       "      <td>Male</td>\n",
       "      <td>4.156770</td>\n",
       "      <td>111</td>\n",
       "      <td>76</td>\n",
       "      <td>96</td>\n",
       "      <td>71</td>\n",
       "      <td>False</td>\n",
       "      <td>Low</td>\n",
       "    </tr>\n",
       "    <tr>\n",
       "      <th>4998</th>\n",
       "      <td>Kendra Murray</td>\n",
       "      <td>18</td>\n",
       "      <td>Female</td>\n",
       "      <td>6.788548</td>\n",
       "      <td>137</td>\n",
       "      <td>81</td>\n",
       "      <td>98</td>\n",
       "      <td>73</td>\n",
       "      <td>False</td>\n",
       "      <td>High</td>\n",
       "    </tr>\n",
       "    <tr>\n",
       "      <th>4999</th>\n",
       "      <td>Christine Rodriguez</td>\n",
       "      <td>38</td>\n",
       "      <td>Male</td>\n",
       "      <td>1.627111</td>\n",
       "      <td>95</td>\n",
       "      <td>52</td>\n",
       "      <td>70</td>\n",
       "      <td>74</td>\n",
       "      <td>True</td>\n",
       "      <td>Low</td>\n",
       "    </tr>\n",
       "  </tbody>\n",
       "</table>\n",
       "<p>5000 rows × 10 columns</p>\n",
       "</div>"
      ],
      "text/plain": [
       "                     Name  Age  Gender  Hours_Studied   IQ  Physics_Marks  \\\n",
       "0            Jason Vargas   19    Male       8.140821   92             87   \n",
       "1          Sandra Wiggins   35  Female       9.825626  112             86   \n",
       "2             Julia Olsen   33    Male       8.835372  131             87   \n",
       "3       Robert Pennington   33    Male       2.482483  138             70   \n",
       "4           Kayla Sellers   28  Female       4.419793   90             95   \n",
       "...                   ...  ...     ...            ...  ...            ...   \n",
       "4995         Steven Lynch   30  Female       3.653474  143             93   \n",
       "4996       Donna Hamilton   33  Female       1.096493  132             68   \n",
       "4997   Mrs. Ashley Howard   38    Male       4.156770  111             76   \n",
       "4998        Kendra Murray   18  Female       6.788548  137             81   \n",
       "4999  Christine Rodriguez   38    Male       1.627111   95             52   \n",
       "\n",
       "      Math_Marks  Chemistry_Marks  Has_Part_Time_Job Study_Hours_Group  \n",
       "0             43               85               True              High  \n",
       "1             81               54              False              High  \n",
       "2             52               57               True              High  \n",
       "3             86               83              False               Low  \n",
       "4             48               83               True               Low  \n",
       "...          ...              ...                ...               ...  \n",
       "4995          59               85               True               Low  \n",
       "4996          70               99               True               Low  \n",
       "4997          96               71              False               Low  \n",
       "4998          98               73              False              High  \n",
       "4999          70               74               True               Low  \n",
       "\n",
       "[5000 rows x 10 columns]"
      ]
     },
     "execution_count": 17,
     "metadata": {},
     "output_type": "execute_result"
    }
   ],
   "source": [
    "df"
   ]
  },
  {
   "cell_type": "markdown",
   "metadata": {},
   "source": [
    "## relation between gender and has part time \n"
   ]
  },
  {
   "cell_type": "markdown",
   "metadata": {},
   "source": [
    "## relatoin between gender and study group hours"
   ]
  },
  {
   "cell_type": "code",
   "execution_count": 18,
   "metadata": {},
   "outputs": [
    {
     "data": {
      "text/plain": [
       "<function matplotlib.pyplot.show(close=None, block=None)>"
      ]
     },
     "execution_count": 18,
     "metadata": {},
     "output_type": "execute_result"
    },
    {
     "data": {
      "image/png": "[encoded data removed]",
      "text/plain": [
       "<Figure size 640x480 with 1 Axes>"
      ]
     },
     "metadata": {},
     "output_type": "display_data"
    }
   ],
   "source": [
    "#outlier detectoin\n",
    "sns.boxplot(data=df, x=\"Math_Marks\")\n",
    "plt.show\n"
   ]
  },
  {
   "cell_type": "code",
   "execution_count": 19,
   "metadata": {},
   "outputs": [
    {
     "data": {
      "text/plain": [
       "<function matplotlib.pyplot.show(close=None, block=None)>"
      ]
     },
     "execution_count": 19,
     "metadata": {},
     "output_type": "execute_result"
    },
    {
     "data": {
      "image/png": "[encoded data removed]",
      "text/plain": [
       "<Figure size 640x480 with 1 Axes>"
      ]
     },
     "metadata": {},
     "output_type": "display_data"
    }
   ],
   "source": [
    "sns.boxplot(data=df, x=\"Chemistry_Marks\")\n",
    "plt.show"
   ]
  },
  {
   "cell_type": "code",
   "execution_count": 20,
   "metadata": {},
   "outputs": [
    {
     "data": {
      "text/plain": [
       "<function matplotlib.pyplot.show(close=None, block=None)>"
      ]
     },
     "execution_count": 20,
     "metadata": {},
     "output_type": "execute_result"
    },
    {
     "data": {
      "image/png": "[encoded data removed]",
      "text/plain": [
       "<Figure size 640x480 with 1 Axes>"
      ]
     },
     "metadata": {},
     "output_type": "display_data"
    }
   ],
   "source": [
    "sns.boxplot(data=df, x=\"Physics_Marks\")\n",
    "plt.show"
   ]
  },
  {
   "cell_type": "code",
   "execution_count": 21,
   "metadata": {},
   "outputs": [
    {
     "data": {
      "text/html": [
       "<div>\n",
       "<style scoped>\n",
       "    .dataframe tbody tr th:only-of-type {\n",
       "        vertical-align: middle;\n",
       "    }\n",
       "\n",
       "    .dataframe tbody tr th {\n",
       "        vertical-align: top;\n",
       "    }\n",
       "\n",
       "    .dataframe thead th {\n",
       "        text-align: right;\n",
       "    }\n",
       "</style>\n",
       "<table border=\"1\" class=\"dataframe\">\n",
       "  <thead>\n",
       "    <tr style=\"text-align: right;\">\n",
       "      <th></th>\n",
       "      <th>Name</th>\n",
       "      <th>Age</th>\n",
       "      <th>Gender</th>\n",
       "      <th>Hours_Studied</th>\n",
       "      <th>IQ</th>\n",
       "      <th>Physics_Marks</th>\n",
       "      <th>Math_Marks</th>\n",
       "      <th>Chemistry_Marks</th>\n",
       "      <th>Has_Part_Time_Job</th>\n",
       "      <th>Study_Hours_Group</th>\n",
       "    </tr>\n",
       "  </thead>\n",
       "  <tbody>\n",
       "    <tr>\n",
       "      <th>0</th>\n",
       "      <td>Jason Vargas</td>\n",
       "      <td>19</td>\n",
       "      <td>Male</td>\n",
       "      <td>8.140821</td>\n",
       "      <td>92</td>\n",
       "      <td>87</td>\n",
       "      <td>43</td>\n",
       "      <td>85</td>\n",
       "      <td>True</td>\n",
       "      <td>High</td>\n",
       "    </tr>\n",
       "    <tr>\n",
       "      <th>1</th>\n",
       "      <td>Sandra Wiggins</td>\n",
       "      <td>35</td>\n",
       "      <td>Female</td>\n",
       "      <td>9.825626</td>\n",
       "      <td>112</td>\n",
       "      <td>86</td>\n",
       "      <td>81</td>\n",
       "      <td>54</td>\n",
       "      <td>False</td>\n",
       "      <td>High</td>\n",
       "    </tr>\n",
       "    <tr>\n",
       "      <th>2</th>\n",
       "      <td>Julia Olsen</td>\n",
       "      <td>33</td>\n",
       "      <td>Male</td>\n",
       "      <td>8.835372</td>\n",
       "      <td>131</td>\n",
       "      <td>87</td>\n",
       "      <td>52</td>\n",
       "      <td>57</td>\n",
       "      <td>True</td>\n",
       "      <td>High</td>\n",
       "    </tr>\n",
       "    <tr>\n",
       "      <th>3</th>\n",
       "      <td>Robert Pennington</td>\n",
       "      <td>33</td>\n",
       "      <td>Male</td>\n",
       "      <td>2.482483</td>\n",
       "      <td>138</td>\n",
       "      <td>70</td>\n",
       "      <td>86</td>\n",
       "      <td>83</td>\n",
       "      <td>False</td>\n",
       "      <td>Low</td>\n",
       "    </tr>\n",
       "    <tr>\n",
       "      <th>4</th>\n",
       "      <td>Kayla Sellers</td>\n",
       "      <td>28</td>\n",
       "      <td>Female</td>\n",
       "      <td>4.419793</td>\n",
       "      <td>90</td>\n",
       "      <td>95</td>\n",
       "      <td>48</td>\n",
       "      <td>83</td>\n",
       "      <td>True</td>\n",
       "      <td>Low</td>\n",
       "    </tr>\n",
       "    <tr>\n",
       "      <th>...</th>\n",
       "      <td>...</td>\n",
       "      <td>...</td>\n",
       "      <td>...</td>\n",
       "      <td>...</td>\n",
       "      <td>...</td>\n",
       "      <td>...</td>\n",
       "      <td>...</td>\n",
       "      <td>...</td>\n",
       "      <td>...</td>\n",
       "      <td>...</td>\n",
       "    </tr>\n",
       "    <tr>\n",
       "      <th>4995</th>\n",
       "      <td>Steven Lynch</td>\n",
       "      <td>30</td>\n",
       "      <td>Female</td>\n",
       "      <td>3.653474</td>\n",
       "      <td>143</td>\n",
       "      <td>93</td>\n",
       "      <td>59</td>\n",
       "      <td>85</td>\n",
       "      <td>True</td>\n",
       "      <td>Low</td>\n",
       "    </tr>\n",
       "    <tr>\n",
       "      <th>4996</th>\n",
       "      <td>Donna Hamilton</td>\n",
       "      <td>33</td>\n",
       "      <td>Female</td>\n",
       "      <td>1.096493</td>\n",
       "      <td>132</td>\n",
       "      <td>68</td>\n",
       "      <td>70</td>\n",
       "      <td>99</td>\n",
       "      <td>True</td>\n",
       "      <td>Low</td>\n",
       "    </tr>\n",
       "    <tr>\n",
       "      <th>4997</th>\n",
       "      <td>Mrs. Ashley Howard</td>\n",
       "      <td>38</td>\n",
       "      <td>Male</td>\n",
       "      <td>4.156770</td>\n",
       "      <td>111</td>\n",
       "      <td>76</td>\n",
       "      <td>96</td>\n",
       "      <td>71</td>\n",
       "      <td>False</td>\n",
       "      <td>Low</td>\n",
       "    </tr>\n",
       "    <tr>\n",
       "      <th>4998</th>\n",
       "      <td>Kendra Murray</td>\n",
       "      <td>18</td>\n",
       "      <td>Female</td>\n",
       "      <td>6.788548</td>\n",
       "      <td>137</td>\n",
       "      <td>81</td>\n",
       "      <td>98</td>\n",
       "      <td>73</td>\n",
       "      <td>False</td>\n",
       "      <td>High</td>\n",
       "    </tr>\n",
       "    <tr>\n",
       "      <th>4999</th>\n",
       "      <td>Christine Rodriguez</td>\n",
       "      <td>38</td>\n",
       "      <td>Male</td>\n",
       "      <td>1.627111</td>\n",
       "      <td>95</td>\n",
       "      <td>52</td>\n",
       "      <td>70</td>\n",
       "      <td>74</td>\n",
       "      <td>True</td>\n",
       "      <td>Low</td>\n",
       "    </tr>\n",
       "  </tbody>\n",
       "</table>\n",
       "<p>5000 rows × 10 columns</p>\n",
       "</div>"
      ],
      "text/plain": [
       "                     Name  Age  Gender  Hours_Studied   IQ  Physics_Marks  \\\n",
       "0            Jason Vargas   19    Male       8.140821   92             87   \n",
       "1          Sandra Wiggins   35  Female       9.825626  112             86   \n",
       "2             Julia Olsen   33    Male       8.835372  131             87   \n",
       "3       Robert Pennington   33    Male       2.482483  138             70   \n",
       "4           Kayla Sellers   28  Female       4.419793   90             95   \n",
       "...                   ...  ...     ...            ...  ...            ...   \n",
       "4995         Steven Lynch   30  Female       3.653474  143             93   \n",
       "4996       Donna Hamilton   33  Female       1.096493  132             68   \n",
       "4997   Mrs. Ashley Howard   38    Male       4.156770  111             76   \n",
       "4998        Kendra Murray   18  Female       6.788548  137             81   \n",
       "4999  Christine Rodriguez   38    Male       1.627111   95             52   \n",
       "\n",
       "      Math_Marks  Chemistry_Marks  Has_Part_Time_Job Study_Hours_Group  \n",
       "0             43               85               True              High  \n",
       "1             81               54              False              High  \n",
       "2             52               57               True              High  \n",
       "3             86               83              False               Low  \n",
       "4             48               83               True               Low  \n",
       "...          ...              ...                ...               ...  \n",
       "4995          59               85               True               Low  \n",
       "4996          70               99               True               Low  \n",
       "4997          96               71              False               Low  \n",
       "4998          98               73              False              High  \n",
       "4999          70               74               True               Low  \n",
       "\n",
       "[5000 rows x 10 columns]"
      ]
     },
     "execution_count": 21,
     "metadata": {},
     "output_type": "execute_result"
    }
   ],
   "source": [
    "df"
   ]
  },
  {
   "cell_type": "code",
   "execution_count": 23,
   "metadata": {},
   "outputs": [
    {
     "data": {
      "text/html": [
       "<div>\n",
       "<style scoped>\n",
       "    .dataframe tbody tr th:only-of-type {\n",
       "        vertical-align: middle;\n",
       "    }\n",
       "\n",
       "    .dataframe tbody tr th {\n",
       "        vertical-align: top;\n",
       "    }\n",
       "\n",
       "    .dataframe thead th {\n",
       "        text-align: right;\n",
       "    }\n",
       "</style>\n",
       "<table border=\"1\" class=\"dataframe\">\n",
       "  <thead>\n",
       "    <tr style=\"text-align: right;\">\n",
       "      <th></th>\n",
       "      <th>Chemistry_Marks</th>\n",
       "      <th>Math_Marks</th>\n",
       "      <th>Physics_Marks</th>\n",
       "    </tr>\n",
       "  </thead>\n",
       "  <tbody>\n",
       "    <tr>\n",
       "      <th>0</th>\n",
       "      <td>85</td>\n",
       "      <td>43</td>\n",
       "      <td>87</td>\n",
       "    </tr>\n",
       "    <tr>\n",
       "      <th>1</th>\n",
       "      <td>54</td>\n",
       "      <td>81</td>\n",
       "      <td>86</td>\n",
       "    </tr>\n",
       "    <tr>\n",
       "      <th>2</th>\n",
       "      <td>57</td>\n",
       "      <td>52</td>\n",
       "      <td>87</td>\n",
       "    </tr>\n",
       "    <tr>\n",
       "      <th>3</th>\n",
       "      <td>83</td>\n",
       "      <td>86</td>\n",
       "      <td>70</td>\n",
       "    </tr>\n",
       "    <tr>\n",
       "      <th>4</th>\n",
       "      <td>83</td>\n",
       "      <td>48</td>\n",
       "      <td>95</td>\n",
       "    </tr>\n",
       "    <tr>\n",
       "      <th>...</th>\n",
       "      <td>...</td>\n",
       "      <td>...</td>\n",
       "      <td>...</td>\n",
       "    </tr>\n",
       "    <tr>\n",
       "      <th>4995</th>\n",
       "      <td>85</td>\n",
       "      <td>59</td>\n",
       "      <td>93</td>\n",
       "    </tr>\n",
       "    <tr>\n",
       "      <th>4996</th>\n",
       "      <td>99</td>\n",
       "      <td>70</td>\n",
       "      <td>68</td>\n",
       "    </tr>\n",
       "    <tr>\n",
       "      <th>4997</th>\n",
       "      <td>71</td>\n",
       "      <td>96</td>\n",
       "      <td>76</td>\n",
       "    </tr>\n",
       "    <tr>\n",
       "      <th>4998</th>\n",
       "      <td>73</td>\n",
       "      <td>98</td>\n",
       "      <td>81</td>\n",
       "    </tr>\n",
       "    <tr>\n",
       "      <th>4999</th>\n",
       "      <td>74</td>\n",
       "      <td>70</td>\n",
       "      <td>52</td>\n",
       "    </tr>\n",
       "  </tbody>\n",
       "</table>\n",
       "<p>5000 rows × 3 columns</p>\n",
       "</div>"
      ],
      "text/plain": [
       "      Chemistry_Marks  Math_Marks  Physics_Marks\n",
       "0                  85          43             87\n",
       "1                  54          81             86\n",
       "2                  57          52             87\n",
       "3                  83          86             70\n",
       "4                  83          48             95\n",
       "...               ...         ...            ...\n",
       "4995               85          59             93\n",
       "4996               99          70             68\n",
       "4997               71          96             76\n",
       "4998               73          98             81\n",
       "4999               74          70             52\n",
       "\n",
       "[5000 rows x 3 columns]"
      ]
     },
     "execution_count": 23,
     "metadata": {},
     "output_type": "execute_result"
    }
   ],
   "source": [
    "df[['Chemistry_Marks','Math_Marks','Physics_Marks']]"
   ]
  },
  {
   "cell_type": "markdown",
   "metadata": {},
   "source": [
    "## feature engineering a new coloumn of avg marks"
   ]
  },
  {
   "cell_type": "code",
   "execution_count": 33,
   "metadata": {},
   "outputs": [
    {
     "data": {
      "text/plain": [
       "0       71.67\n",
       "1       73.67\n",
       "2       65.33\n",
       "3       79.67\n",
       "4       75.33\n",
       "        ...  \n",
       "4995    79.00\n",
       "4996    79.00\n",
       "4997    81.00\n",
       "4998    84.00\n",
       "4999    65.33\n",
       "Name: Average_Marks, Length: 5000, dtype: float64"
      ]
     },
     "execution_count": 33,
     "metadata": {},
     "output_type": "execute_result"
    }
   ],
   "source": [
    "df['Average_Marks'] = df[['Chemistry_Marks','Math_Marks','Physics_Marks']].mean(axis=1).round(2)\n",
    "df['Average_Marks'] \n",
    "# df"
   ]
  },
  {
   "cell_type": "code",
   "execution_count": 35,
   "metadata": {},
   "outputs": [
    {
     "data": {
      "text/plain": [
       "(5000, 11)"
      ]
     },
     "execution_count": 35,
     "metadata": {},
     "output_type": "execute_result"
    }
   ],
   "source": [
    "df.shape"
   ]
  },
  {
   "cell_type": "code",
   "execution_count": 34,
   "metadata": {},
   "outputs": [
    {
     "data": {
      "text/html": [
       "<div>\n",
       "<style scoped>\n",
       "    .dataframe tbody tr th:only-of-type {\n",
       "        vertical-align: middle;\n",
       "    }\n",
       "\n",
       "    .dataframe tbody tr th {\n",
       "        vertical-align: top;\n",
       "    }\n",
       "\n",
       "    .dataframe thead th {\n",
       "        text-align: right;\n",
       "    }\n",
       "</style>\n",
       "<table border=\"1\" class=\"dataframe\">\n",
       "  <thead>\n",
       "    <tr style=\"text-align: right;\">\n",
       "      <th></th>\n",
       "      <th>Name</th>\n",
       "      <th>Age</th>\n",
       "      <th>Gender</th>\n",
       "      <th>Hours_Studied</th>\n",
       "      <th>IQ</th>\n",
       "      <th>Physics_Marks</th>\n",
       "      <th>Math_Marks</th>\n",
       "      <th>Chemistry_Marks</th>\n",
       "      <th>Has_Part_Time_Job</th>\n",
       "      <th>Study_Hours_Group</th>\n",
       "      <th>Average_Marks</th>\n",
       "    </tr>\n",
       "  </thead>\n",
       "  <tbody>\n",
       "    <tr>\n",
       "      <th>0</th>\n",
       "      <td>Jason Vargas</td>\n",
       "      <td>19</td>\n",
       "      <td>Male</td>\n",
       "      <td>8.140821</td>\n",
       "      <td>92</td>\n",
       "      <td>87</td>\n",
       "      <td>43</td>\n",
       "      <td>85</td>\n",
       "      <td>True</td>\n",
       "      <td>High</td>\n",
       "      <td>71.67</td>\n",
       "    </tr>\n",
       "    <tr>\n",
       "      <th>1</th>\n",
       "      <td>Sandra Wiggins</td>\n",
       "      <td>35</td>\n",
       "      <td>Female</td>\n",
       "      <td>9.825626</td>\n",
       "      <td>112</td>\n",
       "      <td>86</td>\n",
       "      <td>81</td>\n",
       "      <td>54</td>\n",
       "      <td>False</td>\n",
       "      <td>High</td>\n",
       "      <td>73.67</td>\n",
       "    </tr>\n",
       "    <tr>\n",
       "      <th>2</th>\n",
       "      <td>Julia Olsen</td>\n",
       "      <td>33</td>\n",
       "      <td>Male</td>\n",
       "      <td>8.835372</td>\n",
       "      <td>131</td>\n",
       "      <td>87</td>\n",
       "      <td>52</td>\n",
       "      <td>57</td>\n",
       "      <td>True</td>\n",
       "      <td>High</td>\n",
       "      <td>65.33</td>\n",
       "    </tr>\n",
       "    <tr>\n",
       "      <th>3</th>\n",
       "      <td>Robert Pennington</td>\n",
       "      <td>33</td>\n",
       "      <td>Male</td>\n",
       "      <td>2.482483</td>\n",
       "      <td>138</td>\n",
       "      <td>70</td>\n",
       "      <td>86</td>\n",
       "      <td>83</td>\n",
       "      <td>False</td>\n",
       "      <td>Low</td>\n",
       "      <td>79.67</td>\n",
       "    </tr>\n",
       "    <tr>\n",
       "      <th>4</th>\n",
       "      <td>Kayla Sellers</td>\n",
       "      <td>28</td>\n",
       "      <td>Female</td>\n",
       "      <td>4.419793</td>\n",
       "      <td>90</td>\n",
       "      <td>95</td>\n",
       "      <td>48</td>\n",
       "      <td>83</td>\n",
       "      <td>True</td>\n",
       "      <td>Low</td>\n",
       "      <td>75.33</td>\n",
       "    </tr>\n",
       "    <tr>\n",
       "      <th>...</th>\n",
       "      <td>...</td>\n",
       "      <td>...</td>\n",
       "      <td>...</td>\n",
       "      <td>...</td>\n",
       "      <td>...</td>\n",
       "      <td>...</td>\n",
       "      <td>...</td>\n",
       "      <td>...</td>\n",
       "      <td>...</td>\n",
       "      <td>...</td>\n",
       "      <td>...</td>\n",
       "    </tr>\n",
       "    <tr>\n",
       "      <th>4995</th>\n",
       "      <td>Steven Lynch</td>\n",
       "      <td>30</td>\n",
       "      <td>Female</td>\n",
       "      <td>3.653474</td>\n",
       "      <td>143</td>\n",
       "      <td>93</td>\n",
       "      <td>59</td>\n",
       "      <td>85</td>\n",
       "      <td>True</td>\n",
       "      <td>Low</td>\n",
       "      <td>79.00</td>\n",
       "    </tr>\n",
       "    <tr>\n",
       "      <th>4996</th>\n",
       "      <td>Donna Hamilton</td>\n",
       "      <td>33</td>\n",
       "      <td>Female</td>\n",
       "      <td>1.096493</td>\n",
       "      <td>132</td>\n",
       "      <td>68</td>\n",
       "      <td>70</td>\n",
       "      <td>99</td>\n",
       "      <td>True</td>\n",
       "      <td>Low</td>\n",
       "      <td>79.00</td>\n",
       "    </tr>\n",
       "    <tr>\n",
       "      <th>4997</th>\n",
       "      <td>Mrs. Ashley Howard</td>\n",
       "      <td>38</td>\n",
       "      <td>Male</td>\n",
       "      <td>4.156770</td>\n",
       "      <td>111</td>\n",
       "      <td>76</td>\n",
       "      <td>96</td>\n",
       "      <td>71</td>\n",
       "      <td>False</td>\n",
       "      <td>Low</td>\n",
       "      <td>81.00</td>\n",
       "    </tr>\n",
       "    <tr>\n",
       "      <th>4998</th>\n",
       "      <td>Kendra Murray</td>\n",
       "      <td>18</td>\n",
       "      <td>Female</td>\n",
       "      <td>6.788548</td>\n",
       "      <td>137</td>\n",
       "      <td>81</td>\n",
       "      <td>98</td>\n",
       "      <td>73</td>\n",
       "      <td>False</td>\n",
       "      <td>High</td>\n",
       "      <td>84.00</td>\n",
       "    </tr>\n",
       "    <tr>\n",
       "      <th>4999</th>\n",
       "      <td>Christine Rodriguez</td>\n",
       "      <td>38</td>\n",
       "      <td>Male</td>\n",
       "      <td>1.627111</td>\n",
       "      <td>95</td>\n",
       "      <td>52</td>\n",
       "      <td>70</td>\n",
       "      <td>74</td>\n",
       "      <td>True</td>\n",
       "      <td>Low</td>\n",
       "      <td>65.33</td>\n",
       "    </tr>\n",
       "  </tbody>\n",
       "</table>\n",
       "<p>5000 rows × 11 columns</p>\n",
       "</div>"
      ],
      "text/plain": [
       "                     Name  Age  Gender  Hours_Studied   IQ  Physics_Marks  \\\n",
       "0            Jason Vargas   19    Male       8.140821   92             87   \n",
       "1          Sandra Wiggins   35  Female       9.825626  112             86   \n",
       "2             Julia Olsen   33    Male       8.835372  131             87   \n",
       "3       Robert Pennington   33    Male       2.482483  138             70   \n",
       "4           Kayla Sellers   28  Female       4.419793   90             95   \n",
       "...                   ...  ...     ...            ...  ...            ...   \n",
       "4995         Steven Lynch   30  Female       3.653474  143             93   \n",
       "4996       Donna Hamilton   33  Female       1.096493  132             68   \n",
       "4997   Mrs. Ashley Howard   38    Male       4.156770  111             76   \n",
       "4998        Kendra Murray   18  Female       6.788548  137             81   \n",
       "4999  Christine Rodriguez   38    Male       1.627111   95             52   \n",
       "\n",
       "      Math_Marks  Chemistry_Marks  Has_Part_Time_Job Study_Hours_Group  \\\n",
       "0             43               85               True              High   \n",
       "1             81               54              False              High   \n",
       "2             52               57               True              High   \n",
       "3             86               83              False               Low   \n",
       "4             48               83               True               Low   \n",
       "...          ...              ...                ...               ...   \n",
       "4995          59               85               True               Low   \n",
       "4996          70               99               True               Low   \n",
       "4997          96               71              False               Low   \n",
       "4998          98               73              False              High   \n",
       "4999          70               74               True               Low   \n",
       "\n",
       "      Average_Marks  \n",
       "0             71.67  \n",
       "1             73.67  \n",
       "2             65.33  \n",
       "3             79.67  \n",
       "4             75.33  \n",
       "...             ...  \n",
       "4995          79.00  \n",
       "4996          79.00  \n",
       "4997          81.00  \n",
       "4998          84.00  \n",
       "4999          65.33  \n",
       "\n",
       "[5000 rows x 11 columns]"
      ]
     },
     "execution_count": 34,
     "metadata": {},
     "output_type": "execute_result"
    }
   ],
   "source": [
    "df"
   ]
  },
  {
   "cell_type": "markdown",
   "metadata": {},
   "source": [
    "## relation between IQ and MARKS\n"
   ]
  },
  {
   "cell_type": "markdown",
   "metadata": {},
   "source": [
    "## relation between gender and avg marks"
   ]
  }
 ],
 "metadata": {
  "kernelspec": {
   "display_name": "Python 3",
   "language": "python",
   "name": "python3"
  },
  "language_info": {
   "codemirror_mode": {
    "name": "ipython",
    "version": 3
   },
   "file_extension": ".py",
   "mimetype": "text/x-python",
   "name": "python",
   "nbconvert_exporter": "python",
   "pygments_lexer": "ipython3",
   "version": "3.11.5"
  },
  "orig_nbformat": 4
 },
 "nbformat": 4,
 "nbformat_minor": 2
}
